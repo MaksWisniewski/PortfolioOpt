{
 "cells": [
  {
   "cell_type": "code",
   "execution_count": null,
   "metadata": {},
   "outputs": [],
   "source": [
    "import numpy as np\n",
    "import matplotlib.pyplot as plt\n",
    "\n",
    "from algorithms.MOEAD import moead, default_weight_vectors\n",
    "import algorithms.MOEAD.evolutionary_operators as moead_operators\n",
    "\n",
    "from algorithms.risk_measures import semi_variance\n",
    "\n",
    "from data_loader import load_stock_quotations\n",
    "\n",
    "%matplotlib inline\n",
    "plt.rcParams['figure.figsize'] = [20, 5]"
   ]
  },
  {
   "cell_type": "markdown",
   "metadata": {},
   "source": [
    "# Load data"
   ]
  },
  {
   "cell_type": "code",
   "execution_count": null,
   "metadata": {},
   "outputs": [],
   "source": [
    "stock_quotations = load_stock_quotations('data/NAZWY.txt')\n",
    "\n",
    "delta_t = 90\n",
    "stock_returns = stock_quotations.xs('close', level=1, axis=1).pct_change()\n",
    "last_returns = stock_returns[-delta_t-1:-1]\n",
    "\n",
    "stock_returns_mean = last_returns.mean() # predicted return for next day\n",
    "\n",
    "# semi-variance as risk\n",
    "stock_returns_semi_var = semi_variance(np.array(last_returns).T)\n",
    "\n",
    "number_of_stocks = stock_returns.shape[1]"
   ]
  },
  {
   "cell_type": "markdown",
   "metadata": {},
   "source": [
    "# Objective function"
   ]
  },
  {
   "cell_type": "code",
   "execution_count": null,
   "metadata": {},
   "outputs": [],
   "source": [
    "def portfolio_return_value(X):\n",
    "    return X @ stock_returns_mean\n",
    "\n",
    "\n",
    "def portfolio_risk_semi_var(X):\n",
    "    return semi_variance(X @ np.array(last_returns).T)\n",
    "\n",
    "\n",
    "def portfolio_objective_function(risk_function=portfolio_risk_semi_var,\n",
    "                                 return_function=portfolio_return_value):\n",
    "    return lambda X: np.c_[risk_function(X), -return_function(X)]"
   ]
  },
  {
   "cell_type": "markdown",
   "metadata": {},
   "source": [
    "# Test"
   ]
  },
  {
   "cell_type": "code",
   "execution_count": null,
   "metadata": {},
   "outputs": [],
   "source": [
    "def show_results(stock_risk, objective_function, moead_kwargs):\n",
    "    plt.xlabel('Risk')\n",
    "    plt.ylabel('Return')\n",
    "    plt.title(f\"MOEA/D: iterations: {moead_kwargs['number_of_iterations']}, normalized: {moead_kwargs['normalize']}\\n\")\n",
    "    plt.scatter(stock_risk, stock_returns_mean, c='gray', s=1, label='Basic stocks')\n",
    "\n",
    "    moead_result = moead(objective_function=objective_function,\n",
    "                         chromosome_length=number_of_stocks,\n",
    "                         **moead_kwargs)\n",
    "\n",
    "    pareto_front_moead = objective_function(moead_result)\n",
    "\n",
    "    plt.scatter(pareto_front_moead[:,0], -pareto_front_moead[:,1], c='r', label='MOEA/D')\n",
    "\n",
    "    plt.legend()\n",
    "    plt.show()"
   ]
  },
  {
   "cell_type": "markdown",
   "metadata": {},
   "source": [
    "## Normalization"
   ]
  },
  {
   "cell_type": "code",
   "execution_count": null,
   "metadata": {},
   "outputs": [],
   "source": [
    "show_results(stock_risk=stock_returns_semi_var,\n",
    "             objective_function=portfolio_objective_function(risk_function=portfolio_risk_semi_var),\n",
    "             moead_kwargs={'number_of_iterations': 500,\n",
    "                           'weight_vectors': default_weight_vectors(100),\n",
    "                           'neighborhood_size': 25,\n",
    "                           'mutation_probability': 0.16,\n",
    "                           'normalize': False,\n",
    "                           'crossover_operator': moead_operators.differential_crossover,\n",
    "                           'mutation_operator': moead_operators.swap_mutation})"
   ]
  },
  {
   "cell_type": "code",
   "execution_count": null,
   "metadata": {},
   "outputs": [],
   "source": [
    "show_results(stock_risk=stock_returns_semi_var,\n",
    "             objective_function=portfolio_objective_function(risk_function=portfolio_risk_semi_var),\n",
    "             moead_kwargs={'number_of_iterations': 500,\n",
    "                           'weight_vectors': default_weight_vectors(100),\n",
    "                           'neighborhood_size': 25,\n",
    "                           'mutation_probability': 0.16,\n",
    "                           'normalize': True,\n",
    "                           'crossover_operator': moead_operators.differential_crossover,\n",
    "                           'mutation_operator': moead_operators.swap_mutation})"
   ]
  },
  {
   "cell_type": "markdown",
   "metadata": {},
   "source": [
    "## Different operators"
   ]
  },
  {
   "cell_type": "markdown",
   "metadata": {},
   "source": [
    "### Crossover"
   ]
  },
  {
   "cell_type": "code",
   "execution_count": null,
   "metadata": {},
   "outputs": [],
   "source": [
    "show_results(stock_risk=stock_returns_semi_var,\n",
    "             objective_function=portfolio_objective_function(risk_function=portfolio_risk_semi_var),\n",
    "             moead_kwargs={'number_of_iterations': 500,\n",
    "                           'weight_vectors': default_weight_vectors(100),\n",
    "                           'neighborhood_size': 25,\n",
    "                           'mutation_probability': 0.16,\n",
    "                           'normalize': True,\n",
    "                           'crossover_operator': moead_operators.single_point_crossover,\n",
    "                           'mutation_operator': moead_operators.swap_mutation})"
   ]
  },
  {
   "cell_type": "code",
   "execution_count": null,
   "metadata": {},
   "outputs": [],
   "source": [
    "show_results(stock_risk=stock_returns_semi_var,\n",
    "             objective_function=portfolio_objective_function(risk_function=portfolio_risk_semi_var),\n",
    "             moead_kwargs={'number_of_iterations': 500,\n",
    "                           'weight_vectors': default_weight_vectors(100),\n",
    "                           'neighborhood_size': 25,\n",
    "                           'mutation_probability': 0.16,\n",
    "                           'normalize': True,\n",
    "                           'crossover_operator': moead_operators.arithmetic_crossover,\n",
    "                           'mutation_operator': moead_operators.swap_mutation})"
   ]
  },
  {
   "cell_type": "markdown",
   "metadata": {},
   "source": [
    "### Mutation"
   ]
  },
  {
   "cell_type": "code",
   "execution_count": null,
   "metadata": {},
   "outputs": [],
   "source": [
    "show_results(stock_risk=stock_returns_semi_var,\n",
    "             objective_function=portfolio_objective_function(risk_function=portfolio_risk_semi_var),\n",
    "             moead_kwargs={'number_of_iterations': 500,\n",
    "                           'weight_vectors': default_weight_vectors(100),\n",
    "                           'neighborhood_size': 25,\n",
    "                           'mutation_probability': 0.16,\n",
    "                           'normalize': True,\n",
    "                           'crossover_operator': moead_operators.single_point_crossover,\n",
    "                           'mutation_operator': moead_operators.change_pair_mutation})"
   ]
  },
  {
   "cell_type": "code",
   "execution_count": null,
   "metadata": {},
   "outputs": [],
   "source": [
    "show_results(stock_risk=stock_returns_semi_var,\n",
    "             objective_function=portfolio_objective_function(risk_function=portfolio_risk_semi_var),\n",
    "             moead_kwargs={'number_of_iterations': 500,\n",
    "                           'weight_vectors': default_weight_vectors(100),\n",
    "                           'neighborhood_size': 25,\n",
    "                           'mutation_probability': 0.16,\n",
    "                           'normalize': True,\n",
    "                           'crossover_operator': moead_operators.differential_crossover,\n",
    "                           'mutation_operator': moead_operators.change_pair_mutation})"
   ]
  },
  {
   "cell_type": "markdown",
   "metadata": {},
   "source": [
    "## Neighborhood size to number of weight vectors ratio"
   ]
  },
  {
   "cell_type": "code",
   "execution_count": null,
   "metadata": {},
   "outputs": [],
   "source": [
    "show_results(stock_risk=stock_returns_semi_var,\n",
    "             objective_function=portfolio_objective_function(risk_function=portfolio_risk_semi_var),\n",
    "             moead_kwargs={'number_of_iterations': 500,\n",
    "                           'weight_vectors': default_weight_vectors(120),\n",
    "                           'neighborhood_size': 20,\n",
    "                           'mutation_probability': 0.16,\n",
    "                           'normalize': True,\n",
    "                           'crossover_operator': moead_operators.differential_crossover,\n",
    "                           'mutation_operator': moead_operators.change_pair_mutation})"
   ]
  },
  {
   "cell_type": "code",
   "execution_count": null,
   "metadata": {},
   "outputs": [],
   "source": [
    "show_results(stock_risk=stock_returns_semi_var,\n",
    "             objective_function=portfolio_objective_function(risk_function=portfolio_risk_semi_var),\n",
    "             moead_kwargs={'number_of_iterations': 500,\n",
    "                           'weight_vectors': default_weight_vectors(100),\n",
    "                           'neighborhood_size': 33,\n",
    "                           'mutation_probability': 0.16,\n",
    "                           'normalize': True,\n",
    "                           'crossover_operator': moead_operators.differential_crossover,\n",
    "                           'mutation_operator': moead_operators.change_pair_mutation})"
   ]
  },
  {
   "cell_type": "code",
   "execution_count": null,
   "metadata": {},
   "outputs": [],
   "source": [
    "show_results(stock_risk=stock_returns_semi_var,\n",
    "             objective_function=portfolio_objective_function(risk_function=portfolio_risk_semi_var),\n",
    "             moead_kwargs={'number_of_iterations': 500,\n",
    "                           'weight_vectors': default_weight_vectors(100),\n",
    "                           'neighborhood_size': 50,\n",
    "                           'mutation_probability': 0.16,\n",
    "                           'normalize': True,\n",
    "                           'crossover_operator': moead_operators.differential_crossover,\n",
    "                           'mutation_operator': moead_operators.change_pair_mutation})"
   ]
  }
 ],
 "metadata": {
  "kernelspec": {
   "display_name": "Python 3",
   "language": "python",
   "name": "python3"
  },
  "language_info": {
   "codemirror_mode": {
    "name": "ipython",
    "version": 3
   },
   "file_extension": ".py",
   "mimetype": "text/x-python",
   "name": "python",
   "nbconvert_exporter": "python",
   "pygments_lexer": "ipython3",
   "version": "3.11.7"
  }
 },
 "nbformat": 4,
 "nbformat_minor": 2
}
