{
 "cells": [
  {
   "cell_type": "code",
   "execution_count": 11,
   "metadata": {},
   "outputs": [],
   "source": [
    "import matplotlib.pyplot as plt\n",
    "import numpy as np\n",
    "import pandas as pd\n",
    "import scipy.stats as sstats\n",
    "from functools import cmp_to_key\n",
    "from tqdm import trange\n",
    "import zipfile\n",
    "\n",
    "%matplotlib inline\n",
    "plt.rcParams['figure.figsize'] = [20, 5]"
   ]
  },
  {
   "cell_type": "markdown",
   "metadata": {},
   "source": [
    "# Reading data"
   ]
  },
  {
   "cell_type": "code",
   "execution_count": 2,
   "metadata": {},
   "outputs": [],
   "source": [
    "def load_stock_quotations(stock_names, filename):\n",
    "    s = {}\n",
    "    with zipfile.ZipFile(filename) as z:\n",
    "        for stock_name in stock_names:\n",
    "            with z.open(stock_name + '.mst') as f:\n",
    "                s[stock_name] = pd.read_csv(f, index_col='<DTYYYYMMDD>', parse_dates=True)[['<OPEN>', '<HIGH>', '<LOW>', '<CLOSE>', '<VOL>']]\n",
    "                s[stock_name].index.rename('time', inplace=True)\n",
    "                s[stock_name].rename(columns={'<OPEN>':'open', '<HIGH>':'high', '<LOW>':'low', '<CLOSE>':'close', '<VOL>':'volume'}, inplace=True)\n",
    "    return pd.concat(s.values(), keys=s.keys(), axis=1)"
   ]
  },
  {
   "cell_type": "code",
   "execution_count": 3,
   "metadata": {},
   "outputs": [],
   "source": [
    "STOCK_QUOTATIONS_ARCHIVE_FILE_NAME = 'mstall.zip'\n",
    "STOCK_NAMES_FILE_NAME = 'WIG20.txt'"
   ]
  },
  {
   "cell_type": "code",
   "execution_count": 4,
   "metadata": {},
   "outputs": [],
   "source": [
    "with open(STOCK_NAMES_FILE_NAME) as f:\n",
    "    stock_names = list(map(lambda line: line.strip(), f))\n",
    "\n",
    "number_of_stocks = len(stock_names)\n",
    "\n",
    "stock_quotations = load_stock_quotations(stock_names, STOCK_QUOTATIONS_ARCHIVE_FILE_NAME)\n",
    "stock_quotations.fillna(method='ffill', inplace=True)"
   ]
  },
  {
   "cell_type": "markdown",
   "metadata": {},
   "source": [
    "# Objective function"
   ]
  },
  {
   "cell_type": "code",
   "execution_count": 5,
   "metadata": {},
   "outputs": [],
   "source": [
    "def semi_covariance(X, Y):\n",
    "    N = len(X)\n",
    "    XX, YY = X - X.mean(), Y - Y.mean()\n",
    "    XX[XX > 0] = 0\n",
    "    YY[YY > 0] = 0\n",
    "    return np.sum(XX * YY) / N\n",
    "\n",
    "\n",
    "def semi_variance(X):\n",
    "    return semi_covariance(X,X)\n",
    "\n",
    "\n",
    "def semi_covariance_matrix(X):\n",
    "    N,M = X.shape\n",
    "    result = np.empty((M,M))\n",
    "    for i in range(M):\n",
    "        for j in range(M):\n",
    "            result[i,j] = semi_covariance(X[:,i], X[:,j])\n",
    "    return result"
   ]
  },
  {
   "cell_type": "code",
   "execution_count": 6,
   "metadata": {},
   "outputs": [],
   "source": [
    "delta_t = 90\n",
    "stock_returns = stock_quotations.xs('close', level=1, axis=1).pct_change()\n",
    "last_returns = stock_returns[-delta_t-1:-1]\n",
    "\n",
    "stock_returns_mean = last_returns.mean() # predicted return for next day\n",
    "\n",
    "# variance as risk\n",
    "stock_returns_var = last_returns.var() # risk\n",
    "stock_returns_cov = last_returns.cov() # covariance matrix\n",
    "\n",
    "# semi-variance as risk\n",
    "stock_returns_semi_var = semi_variance(last_returns)\n",
    "stock_returns_semi_cov = semi_covariance_matrix(np.array(last_returns))"
   ]
  },
  {
   "cell_type": "code",
   "execution_count": 7,
   "metadata": {},
   "outputs": [],
   "source": [
    "def portfolio_return_value(X):\n",
    "    return X @ stock_returns_mean\n",
    "\n",
    "\n",
    "def portfolio_risk_var(X):\n",
    "    return np.diag(X @ stock_returns_cov @ X.T)\n",
    "\n",
    "\n",
    "def portfolio_risk_semi_var(X):\n",
    "    return np.diag(X @ stock_returns_semi_cov @ X.T)\n",
    "\n",
    "\n",
    "def portfolio_objective_function(risk_function=portfolio_risk_var,\n",
    "                                 return_function=portfolio_return_value):\n",
    "    return lambda X: np.c_[risk_function(X), -return_function(X)]"
   ]
  },
  {
   "cell_type": "markdown",
   "metadata": {},
   "source": [
    "# MOEA/D algorithm"
   ]
  },
  {
   "cell_type": "code",
   "execution_count": null,
   "metadata": {},
   "outputs": [],
   "source": [
    "def default_weight_vectors(N):\n",
    "     return np.c_[np.linspace(0,1,N), 1-np.linspace(0,1,N)]\n",
    "\n",
    "\n",
    "def moead(objective_function,\n",
    "          chromosome_length=20,\n",
    "          number_of_iterations=1000,\n",
    "          number_of_subproblems=100,\n",
    "          weight_vectors=default_weight_vectors(100),\n",
    "          neighborhood_size=20):\n",
    "    np.random.seed(7896)\n",
    "\n",
    "    pareto_population = []\n",
    "\n",
    "    weight_vectors_2 = np.sum(weight_vectors**2, axis=1)\n",
    "    distance_matrix = np.sqrt(weight_vectors_2.reshape(-1,1) - 2*(weight_vectors @ weight_vectors.T) + weight_vectors_2)\n",
    "\n",
    "    neigborhoods = np.empty((number_of_subproblems, neighborhood_size))\n",
    "    for i in range(number_of_subproblems):\n",
    "         dupa"
   ]
  }
 ],
 "metadata": {
  "kernelspec": {
   "display_name": "Python 3",
   "language": "python",
   "name": "python3"
  },
  "language_info": {
   "codemirror_mode": {
    "name": "ipython",
    "version": 3
   },
   "file_extension": ".py",
   "mimetype": "text/x-python",
   "name": "python",
   "nbconvert_exporter": "python",
   "pygments_lexer": "ipython3",
   "version": "3.11.7"
  }
 },
 "nbformat": 4,
 "nbformat_minor": 2
}
