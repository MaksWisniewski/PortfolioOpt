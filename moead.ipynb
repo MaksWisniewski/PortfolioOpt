{
 "cells": [
  {
   "cell_type": "code",
   "execution_count": 1,
   "metadata": {},
   "outputs": [],
   "source": [
    "import matplotlib.pyplot as plt\n",
    "import numpy as np\n",
    "import pandas as pd\n",
    "import scipy.stats as sstats\n",
    "from functools import cmp_to_key\n",
    "from tqdm import trange\n",
    "import zipfile\n",
    "\n",
    "%matplotlib inline\n",
    "plt.rcParams['figure.figsize'] = [20, 5]"
   ]
  },
  {
   "cell_type": "markdown",
   "metadata": {},
   "source": [
    "# Reading data"
   ]
  },
  {
   "cell_type": "code",
   "execution_count": 2,
   "metadata": {},
   "outputs": [],
   "source": [
    "def load_stock_quotations(stock_names, filename):\n",
    "    s = {}\n",
    "    with zipfile.ZipFile(filename) as z:\n",
    "        for stock_name in stock_names:\n",
    "            with z.open(stock_name + '.mst') as f:\n",
    "                s[stock_name] = pd.read_csv(f, index_col='<DTYYYYMMDD>', parse_dates=True)[['<OPEN>', '<HIGH>', '<LOW>', '<CLOSE>', '<VOL>']]\n",
    "                s[stock_name].index.rename('time', inplace=True)\n",
    "                s[stock_name].rename(columns={'<OPEN>':'open', '<HIGH>':'high', '<LOW>':'low', '<CLOSE>':'close', '<VOL>':'volume'}, inplace=True)\n",
    "    return pd.concat(s.values(), keys=s.keys(), axis=1)"
   ]
  },
  {
   "cell_type": "code",
   "execution_count": 3,
   "metadata": {},
   "outputs": [],
   "source": [
    "STOCK_QUOTATIONS_ARCHIVE_FILE_NAME = 'mstall.zip'\n",
    "STOCK_NAMES_FILE_NAME = 'WIG20.txt'"
   ]
  },
  {
   "cell_type": "code",
   "execution_count": 4,
   "metadata": {},
   "outputs": [],
   "source": [
    "with open(STOCK_NAMES_FILE_NAME) as f:\n",
    "    stock_names = list(map(lambda line: line.strip(), f))\n",
    "\n",
    "number_of_stocks = len(stock_names)\n",
    "\n",
    "stock_quotations = load_stock_quotations(stock_names, STOCK_QUOTATIONS_ARCHIVE_FILE_NAME)\n",
    "stock_quotations.fillna(method='ffill', inplace=True)"
   ]
  },
  {
   "cell_type": "markdown",
   "metadata": {},
   "source": [
    "# Objective function"
   ]
  },
  {
   "cell_type": "code",
   "execution_count": 5,
   "metadata": {},
   "outputs": [],
   "source": [
    "def semi_covariance(X, Y):\n",
    "    N = len(X)\n",
    "    XX, YY = X - X.mean(), Y - Y.mean()\n",
    "    XX[XX > 0] = 0\n",
    "    YY[YY > 0] = 0\n",
    "    return np.sum(XX * YY) / N\n",
    "\n",
    "\n",
    "def semi_variance(X):\n",
    "    return semi_covariance(X,X)\n",
    "\n",
    "\n",
    "def semi_covariance_matrix(X):\n",
    "    N,M = X.shape\n",
    "    result = np.empty((M,M))\n",
    "    for i in range(M):\n",
    "        for j in range(M):\n",
    "            result[i,j] = semi_covariance(X[:,i], X[:,j])\n",
    "    return result"
   ]
  },
  {
   "cell_type": "code",
   "execution_count": 6,
   "metadata": {},
   "outputs": [],
   "source": [
    "delta_t = 90\n",
    "stock_returns = stock_quotations.xs('close', level=1, axis=1).pct_change()\n",
    "last_returns = stock_returns[-delta_t-1:-1]\n",
    "\n",
    "stock_returns_mean = last_returns.mean() # predicted return for next day\n",
    "\n",
    "# variance as risk\n",
    "stock_returns_var = last_returns.var() # risk\n",
    "stock_returns_cov = last_returns.cov() # covariance matrix\n",
    "\n",
    "# semi-variance as risk\n",
    "stock_returns_semi_var = semi_variance(last_returns)\n",
    "stock_returns_semi_cov = semi_covariance_matrix(np.array(last_returns))"
   ]
  },
  {
   "cell_type": "code",
   "execution_count": 7,
   "metadata": {},
   "outputs": [],
   "source": [
    "def portfolio_return_value(X):\n",
    "    return X @ stock_returns_mean\n",
    "\n",
    "\n",
    "def portfolio_risk_var(X):\n",
    "    return np.diag(X @ stock_returns_cov @ X.T)\n",
    "\n",
    "\n",
    "def portfolio_risk_semi_var(X):\n",
    "    return np.diag(X @ stock_returns_semi_cov @ X.T)\n",
    "\n",
    "\n",
    "def portfolio_objective_function(risk_function=portfolio_risk_semi_var,\n",
    "                                 return_function=portfolio_return_value):\n",
    "    return lambda X: np.c_[risk_function(X), -return_function(X)]"
   ]
  },
  {
   "cell_type": "markdown",
   "metadata": {},
   "source": [
    "# MOEA/D algorithm"
   ]
  },
  {
   "cell_type": "code",
   "execution_count": 8,
   "metadata": {},
   "outputs": [],
   "source": [
    "def random_population(population_size, chromosome_length):\n",
    "    population = np.random.random(size=(population_size, chromosome_length))\n",
    "    return population / population.sum(axis=1).reshape(-1,1)\n",
    "\n",
    "\n",
    "def dominates(x, y):\n",
    "    '''Check if x dominates y'''\n",
    "    return np.all(x <= y) and np.any(x < y)"
   ]
  },
  {
   "cell_type": "code",
   "execution_count": 9,
   "metadata": {},
   "outputs": [],
   "source": [
    "def single_point_crossover(parent1, parent2):\n",
    "    crossover_point = np.random.randint(1, parent1.size)\n",
    "    offspring = np.hstack([parent1[:crossover_point], parent2[crossover_point:]])\n",
    "    return offspring / offspring.sum()\n",
    "\n",
    "\n",
    "def swap_mutation(x):\n",
    "    j,k = np.random.choice(x.size, size=2, replace=False)\n",
    "    x[j], x[k] = x[k], x[j]\n",
    "    return x"
   ]
  },
  {
   "cell_type": "code",
   "execution_count": 10,
   "metadata": {},
   "outputs": [],
   "source": [
    "def default_weight_vectors(N):\n",
    "     return np.c_[np.linspace(0,1,N), 1-np.linspace(0,1,N)]\n",
    "\n",
    "\n",
    "def moead(objective_function,\n",
    "          chromosome_length=20,\n",
    "          number_of_iterations=1000,\n",
    "          weight_vectors=default_weight_vectors(100),\n",
    "          neighborhood_size=20,\n",
    "          mutation_probability=0.2,\n",
    "          crossover_operator=single_point_crossover,\n",
    "          mutation_operator=swap_mutation,\n",
    "          population_generator=random_population):\n",
    "     np.random.seed(7896)\n",
    "\n",
    "     number_of_subproblems = weight_vectors.shape[0]\n",
    "\n",
    "     # initialize population\n",
    "     pareto_population = np.empty(0)\n",
    "     pareto_values = np.empty(0)\n",
    "     population = population_generator(population_size=number_of_subproblems,\n",
    "                                        chromosome_length=chromosome_length)\n",
    "     # evaluate population\n",
    "     population_values = objective_function(population)\n",
    "\n",
    "     # initialize reference point\n",
    "     reference_point = np.min(population_values, axis=0)\n",
    "\n",
    "     # initialize neighborhoods\n",
    "     weight_vectors_2 = np.sum(weight_vectors**2, axis=1)\n",
    "     distance_matrix = weight_vectors_2.reshape(-1,1) - 2*(weight_vectors @ weight_vectors.T) + weight_vectors_2\n",
    "\n",
    "     neighborhoods = np.empty((number_of_subproblems, neighborhood_size))\n",
    "     neighborhoods = np.argsort(distance_matrix)[:,:neighborhood_size]\n",
    "\n",
    "     # scalar function - decomposition\n",
    "     def g(f_value, weight_vector, ref_point):\n",
    "          return np.max(weight_vector * np.abs(f_value - ref_point))\n",
    "\n",
    "     for _ in trange(number_of_iterations):\n",
    "          for i in range(number_of_subproblems):\n",
    "               # select parents\n",
    "               k,l = np.random.choice(neighborhoods[i], size=2, replace=False)\n",
    "               # create offspring\n",
    "               offspring = crossover_operator(population[k], population[l])\n",
    "               if np.random.uniform(0,1) < mutation_probability:\n",
    "                    offspring = mutation_operator(offspring)\n",
    "\n",
    "               # evaluate offspring\n",
    "               offspring_value = objective_function(offspring.reshape(1,-1))\n",
    "\n",
    "               # update reference point\n",
    "               reference_point = np.min(np.vstack([reference_point, offspring_value]), axis=1)\n",
    "\n",
    "               # update population and population_values\n",
    "               for j in neighborhoods[i]:\n",
    "                    if g(offspring_value, weight_vectors[j], reference_point) < g(population_values[j], weight_vectors[j], reference_point):\n",
    "                         population_values[j] = offspring_value\n",
    "                         population[j] = offspring\n",
    "\n",
    "               # update nondominated population (pareto)\n",
    "               if pareto_population.size == 0:\n",
    "                    pareto_population = offspring.reshape(1,-1)\n",
    "                    pareto_values = offspring_value\n",
    "               else:\n",
    "                    # remove elements dominated by offspring\n",
    "                    idx_to_remove = np.array([dominates(offspring_value, v) for v in pareto_values])\n",
    "                    pareto_population = pareto_population[~idx_to_remove]\n",
    "                    pareto_values = pareto_values[~idx_to_remove]\n",
    "                    # add offspring if it's nondominated\n",
    "                    if not np.any([dominates(v, offspring_value) for v in pareto_values]):\n",
    "                         pareto_population = np.vstack([pareto_population, offspring])\n",
    "                         pareto_values = np.vstack([pareto_values, offspring_value])\n",
    "\n",
    "     return pareto_population, pareto_values"
   ]
  },
  {
   "cell_type": "code",
   "execution_count": 11,
   "metadata": {},
   "outputs": [],
   "source": [
    "def show_results(stock_risk=stock_returns_semi_var,\n",
    "                 objective_function=portfolio_objective_function(risk_function=portfolio_risk_semi_var),\n",
    "                 **kwargs):\n",
    "    plt.xlabel('Risk')\n",
    "    plt.ylabel('Return')\n",
    "    plt.scatter(stock_risk, stock_returns_mean, c='b')\n",
    "\n",
    "    moead_result_pop, moead_result_val = moead(objective_function=objective_function,\n",
    "                                               chromosome_length=number_of_stocks,\n",
    "                                               **kwargs)\n",
    "\n",
    "    plt.scatter(moead_result_val[:,0], -moead_result_val[:,1], c='r')\n",
    "    plt.legend(['Basic stocks', 'Pareto front'])\n",
    "    plt.show()"
   ]
  },
  {
   "cell_type": "code",
   "execution_count": 13,
   "metadata": {},
   "outputs": [
    {
     "name": "stderr",
     "output_type": "stream",
     "text": [
      "100%|██████████| 1000/1000 [09:23<00:00,  1.77it/s]\n"
     ]
    },
    {
     "data": {
      "image/png": "[encoded data removed]",
      "text/plain": [
       "<Figure size 2000x500 with 1 Axes>"
      ]
     },
     "metadata": {},
     "output_type": "display_data"
    }
   ],
   "source": [
    "show_results(number_of_iterations=1000)"
   ]
  }
 ],
 "metadata": {
  "kernelspec": {
   "display_name": "Python 3",
   "language": "python",
   "name": "python3"
  },
  "language_info": {
   "codemirror_mode": {
    "name": "ipython",
    "version": 3
   },
   "file_extension": ".py",
   "mimetype": "text/x-python",
   "name": "python",
   "nbconvert_exporter": "python",
   "pygments_lexer": "ipython3",
   "version": "3.11.7"
  }
 },
 "nbformat": 4,
 "nbformat_minor": 2
}
