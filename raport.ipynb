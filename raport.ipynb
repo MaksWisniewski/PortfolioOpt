{
 "cells": [
  {
   "cell_type": "code",
   "execution_count": 1,
   "metadata": {},
   "outputs": [],
   "source": [
    "import numpy as np\n",
    "import matplotlib.pyplot as plt\n",
    "\n",
    "from algorithms.NSGA2 import nsga2\n",
    "import algorithms.NSGA2.evolutionary_operators as nsga2_operators\n",
    "\n",
    "from algorithms.MOEAD import moead, default_weight_vectors\n",
    "import algorithms.MOEAD.evolutionary_operators as moead_operators\n",
    "\n",
    "from algorithms.risk_measures import *\n",
    "\n",
    "from data import load_stock_quotations\n",
    "\n",
    "%matplotlib inline\n",
    "plt.rcParams['figure.figsize'] = [20, 5]"
   ]
  },
  {
   "cell_type": "markdown",
   "metadata": {},
   "source": [
    "# Load data"
   ]
  },
  {
   "cell_type": "code",
   "execution_count": 2,
   "metadata": {},
   "outputs": [],
   "source": [
    "stock_quotations = load_stock_quotations()\n",
    "\n",
    "delta_t = 90\n",
    "stock_returns = stock_quotations.xs('close', level=1, axis=1).pct_change()\n",
    "last_returns = stock_returns[-delta_t-1:-1]\n",
    "\n",
    "stock_returns_mean = last_returns.mean() # predicted return for next day\n",
    "\n",
    "# variance as risk\n",
    "stock_returns_var = last_returns.var() # risk\n",
    "stock_returns_cov = last_returns.cov() # covariance matrix\n",
    "\n",
    "# semi-variance as risk\n",
    "stock_returns_semi_var = semi_variance(last_returns)\n",
    "stock_returns_semi_cov = semi_covariance_matrix(np.array(last_returns))\n",
    "\n",
    "number_of_stocks = stock_returns.shape[1]"
   ]
  },
  {
   "cell_type": "markdown",
   "metadata": {},
   "source": [
    "# Objective function"
   ]
  },
  {
   "cell_type": "code",
   "execution_count": 3,
   "metadata": {},
   "outputs": [],
   "source": [
    "def portfolio_return_value(X):\n",
    "    return X @ stock_returns_mean\n",
    "\n",
    "\n",
    "def portfolio_risk_var(X):\n",
    "    return np.diag(X @ stock_returns_cov @ X.T)\n",
    "\n",
    "\n",
    "def portfolio_risk_semi_var(X):\n",
    "    return np.diag(X @ stock_returns_semi_cov @ X.T)\n",
    "\n",
    "\n",
    "def portfolio_objective_function(risk_function=portfolio_risk_semi_var,\n",
    "                                 return_function=portfolio_return_value):\n",
    "    return lambda X: np.c_[risk_function(X), -return_function(X)]"
   ]
  },
  {
   "cell_type": "markdown",
   "metadata": {},
   "source": [
    "# Test"
   ]
  },
  {
   "cell_type": "code",
   "execution_count": 4,
   "metadata": {},
   "outputs": [],
   "source": [
    "def show_results(stock_risk, objective_function, moead_kwargs, nsga2_kwargs):\n",
    "    plt.xlabel('Risk')\n",
    "    plt.ylabel('Return')\n",
    "    plt.title(f\"MOEA/D: iterations: {moead_kwargs['number_of_iterations']}\\n\" +\n",
    "              f\"NSGA-II: iterations: {nsga2_kwargs['number_of_iterations']}, population size: {nsga2_kwargs['population_size']}\")\n",
    "    plt.scatter(stock_risk, stock_returns_mean, c='gray')\n",
    "\n",
    "    moead_result = moead(objective_function=objective_function,\n",
    "                         chromosome_length=number_of_stocks,\n",
    "                         **moead_kwargs)\n",
    "\n",
    "    nsga2_result = nsga2(objective_function=objective_function,\n",
    "                         chromosome_length=number_of_stocks,\n",
    "                         **nsga2_kwargs)\n",
    "\n",
    "    pareto_front_moead = objective_function(moead_result)\n",
    "    pareto_front_nsga2 = objective_function(nsga2_result)\n",
    "\n",
    "    plt.scatter(pareto_front_moead[:,0], -pareto_front_moead[:,1], c='r')\n",
    "    plt.scatter(pareto_front_nsga2[:,0], -pareto_front_nsga2[:,1], c='b')\n",
    "\n",
    "    plt.legend(['Basic stocks', 'MOEA/D', 'NSGA-II'])\n",
    "    plt.show()"
   ]
  },
  {
   "cell_type": "code",
   "execution_count": null,
   "metadata": {},
   "outputs": [],
   "source": [
    "show_results(stock_risk=stock_returns_semi_var,\n",
    "             objective_function=portfolio_objective_function(risk_function=portfolio_risk_semi_var),\n",
    "             moead_kwargs={'number_of_iterations': 5000,\n",
    "                           'weight_vectors': default_weight_vectors(250),\n",
    "                           'neighborhood_size': 20,\n",
    "                           'mutation_probability': 0.2,\n",
    "                           'normalize': True,\n",
    "                           'crossover_operator': moead_operators.single_point_crossover,\n",
    "                           'mutation_operator': moead_operators.swap_mutation},\n",
    "             nsga2_kwargs={'population_size': 800,\n",
    "                           'number_of_offspring': 1600,\n",
    "                           'number_of_iterations': 1200,\n",
    "                           'crossover_probability': 0.95,\n",
    "                           'mutation_probability': 0.25,\n",
    "                           'crossover_operator': nsga2_operators.differential_crossover(),\n",
    "                           'mutation_operator': nsga2_operators.swap_mutation,\n",
    "                           'alpha': 0.75})"
   ]
  }
 ],
 "metadata": {
  "kernelspec": {
   "display_name": "Python 3",
   "language": "python",
   "name": "python3"
  },
  "language_info": {
   "codemirror_mode": {
    "name": "ipython",
    "version": 3
   },
   "file_extension": ".py",
   "mimetype": "text/x-python",
   "name": "python",
   "nbconvert_exporter": "python",
   "pygments_lexer": "ipython3",
   "version": "3.11.6"
  }
 },
 "nbformat": 4,
 "nbformat_minor": 2
}
